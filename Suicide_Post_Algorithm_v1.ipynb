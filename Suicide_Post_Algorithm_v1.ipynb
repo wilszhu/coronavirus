#There is an error in this file, accuracy for all data turns out to be exactly the same

{
  "nbformat": 4,
  "nbformat_minor": 0,
  "metadata": {
    "colab": {
      "name": "Suicide Post Algorithm.ipynb",
      "provenance": []
    },
    "kernelspec": {
      "name": "python3",
      "display_name": "Python 3"
    }
  },
  "cells": [
    {
      "cell_type": "code",
      "metadata": {
        "id": "_yJLdFjX2FKI",
        "colab_type": "code",
        "colab": {}
      },
      "source": [
        "import pandas as pd\n",
        "import numpy as np\n",
        "import matplotlib.pyplot as plt\n",
        "\n",
        "import tensorflow as tf\n",
        "from tensorflow.keras.preprocessing.text import Tokenizer\n",
        "from tensorflow.keras.preprocessing.sequence import pad_sequences\n",
        "\n",
        "from tensorflow import keras\n",
        "from tensorflow.keras import layers\n",
        "from tensorflow.keras.models import Sequential\n",
        "\n",
        "from sklearn.model_selection import train_test_split\n",
        "from sklearn.linear_model import LogisticRegression\n",
        "from sklearn.preprocessing import OneHotEncoder\n"
      ],
      "execution_count": 86,
      "outputs": []
    },
    {
      "cell_type": "code",
      "metadata": {
        "id": "aFcIGODF-lAT",
        "colab_type": "code",
        "colab": {}
      },
      "source": [
        "postCSV = pd.read_csv(\"Posts.csv\", encoding= 'unicode_escape')\n",
        "\n",
        "\n",
        "postCSV['Text'] = postCSV['Text'].str.replace('[\\.]+', '.')\n",
        "postCSV['Text'] = postCSV['Text'].str.replace('[\\,]+', ',')\n",
        "postCSV['Text'] = postCSV['Text'].str.replace('[\\?]+', '?')\n",
        "postCSV['Text'] = postCSV['Text'].str.replace('[\\!]+', '!')\n",
        "postCSV['Text'] = postCSV['Text'].str.replace('(#(\\w)+)', '')\n",
        "postCSV['Text'] = postCSV['Text'].str.replace('(@(\\w)+)', '')\n",
        "postCSV['Text'] = postCSV['Text'].str.replace('&', 'and')\n",
        "postCSV['Text'] = postCSV['Text'].str.replace('a-z0-9\\.\\?\\:\\. |', '')\n",
        "postCSV['Text'] = postCSV['Text'].str.replace('<[^<>]+>', '')\n",
        "postCSV['Text'] = postCSV['Text'].str.replace('[0-9]+', 'number')\n",
        "postCSV['Text'] = postCSV['Text'].str.replace('(http|https)://[^\\s]*', '')\n",
        "\n",
        "postCSV['Text'] = postCSV['Text'].str.replace('gonna', 'going to')\n",
        "postCSV['Text'] = postCSV['Text'].str.replace('gotta', 'got to')\n",
        "postCSV['Text'] = postCSV['Text'].str.replace('yall', 'you all')\n",
        "postCSV['Text'] = postCSV['Text'].str.replace('im', 'i am')\n",
        "postCSV['Text'] = postCSV['Text'].str.replace('id', 'i would')\n",
        "postCSV['Text'] = postCSV['Text'].str.replace('idk', 'i do not know')\n",
        "postCSV['Text'] = postCSV['Text'].str.replace('kms', 'kill myself')\n",
        "postCSV['Text'] = postCSV['Text'].str.replace('tf', 'the fuck')\n",
        "postCSV['Text'] = postCSV['Text'].str.replace('wtf', 'what the fuck')\n",
        "postCSV['Text'] = postCSV['Text'].str.replace('stfu', 'shut the fuck up')\n",
        "postCSV['Text'] = postCSV['Text'].str.replace('fk', 'fuck')\n",
        "postCSV['Text'] = postCSV['Text'].str.replace('rly', 'really')\n",
        "postCSV['Text'] = postCSV['Text'].str.replace('cant', 'can not')\n",
        "postCSV['Text'] = postCSV['Text'].str.replace('dont', 'do not')\n",
        "postCSV['Text'] = postCSV['Text'].str.replace('didnt', 'did not')\n",
        "postCSV['Text'] = postCSV['Text'].str.replace('doesnt', 'does not')\n",
        "postCSV['Text'] = postCSV['Text'].str.replace('wouldnt', 'would not')\n",
        "postCSV['Text'] = postCSV['Text'].str.replace('hasnt', 'has not')\n",
        "postCSV['Text'] = postCSV['Text'].str.replace('havent', 'have not')\n",
        "postCSV['Text'] = postCSV['Text'].str.replace('shes', 'she is')\n",
        "postCSV['Text'] = postCSV['Text'].str.replace('hes', 'he is')\n",
        "postCSV['Text'] = postCSV['Text'].str.replace('its', 'it is')\n",
        "postCSV['Text'] = postCSV['Text'].str.replace('isnt', 'is not')\n",
        "postCSV['Text'] = postCSV['Text'].str.replace('arent', 'are not')\n",
        "postCSV['Text'] = postCSV['Text'].str.replace('lemme', 'let me')\n",
        "postCSV['Text'] = postCSV['Text'].str.replace('imma', 'i am going to')\n"
      ],
      "execution_count": 87,
      "outputs": []
    },
    {
      "cell_type": "code",
      "metadata": {
        "id": "YIhZLBf5v-36",
        "colab_type": "code",
        "colab": {}
      },
      "source": [
        "x_value = postCSV['Text'].values\n",
        "y_value = postCSV['Ideation'].values\n",
        "\n",
        "x_train, x_test, y_train, y_test = train_test_split(x_value, y_value, test_size = 0.25, random_state = 42)"
      ],
      "execution_count": 88,
      "outputs": []
    },
    {
      "cell_type": "code",
      "metadata": {
        "id": "cU43rThM1hms",
        "colab_type": "code",
        "colab": {}
      },
      "source": [
        "tokenizer = Tokenizer(num_words = 5000)\n",
        "tokenizer.fit_on_texts(x_train)\n",
        "\n",
        "X_train = tokenizer.texts_to_sequences(x_train)\n",
        "X_test = tokenizer.texts_to_sequences(x_test)\n",
        "\n",
        "vocab_size = len(tokenizer.word_index) + 1"
      ],
      "execution_count": 89,
      "outputs": []
    },
    {
      "cell_type": "code",
      "metadata": {
        "id": "lT3e38UC2YlD",
        "colab_type": "code",
        "colab": {}
      },
      "source": [
        "maxlen = 50\n",
        "X_train = pad_sequences(X_train, padding = 'post', maxlen = maxlen)\n",
        "X_test = pad_sequences(X_test, padding = 'post', maxlen = maxlen)"
      ],
      "execution_count": 90,
      "outputs": []
    },
    {
      "cell_type": "code",
      "metadata": {
        "id": "6R0eHHzb2hEj",
        "colab_type": "code",
        "colab": {}
      },
      "source": [
        "encoder = OneHotEncoder(sparse = False)\n",
        "\n",
        "y_train = y_train.reshape((len(y_train), 1))\n",
        "y_train = encoder.fit_transform(y_train)\n",
        "\n",
        "y_test = y_test.reshape((len(y_test), 1))\n",
        "y_test = encoder.fit_transform(y_test)"
      ],
      "execution_count": 91,
      "outputs": []
    },
    {
      "cell_type": "code",
      "metadata": {
        "id": "v1OyaiqW5IfZ",
        "colab_type": "code",
        "colab": {}
      },
      "source": [
        "plt.style.use('ggplot')\n",
        "def plot_history(history):\n",
        "    a = history.history['accuracy']\n",
        "    val_acc = history.history['val_accuracy']\n",
        "    l = history.history['loss']\n",
        "    val_loss = history.history['val_loss']\n",
        "    x = range(1, len(a) + 1)\n",
        "    \n",
        "    plt.figure(figsize = (12, 5))\n",
        "    plt.subplot(1, 2, 1)\n",
        "    plt.plot(x, a, 'b', label = 'Training accuracy')\n",
        "    plt.plot(x, val_acc, 'r', label = 'Validation accuracy')\n",
        "    plt.title('Training and validation acccuracy')\n",
        "    plt.legend()\n",
        "    \n",
        "    plt.subplot(1, 2, 2)\n",
        "    plt.plot(x, l, 'b', label = 'Training loss')\n",
        "    plt.plot(x, val_loss, 'r', label = 'Validation loss')\n",
        "    plt.title('Training and validation loss')\n",
        "    plt.legend()"
      ],
      "execution_count": 92,
      "outputs": []
    },
    {
      "cell_type": "code",
      "metadata": {
        "id": "PBipaTgg5Teb",
        "colab_type": "code",
        "colab": {}
      },
      "source": [
        "def create_embedding_matrix(filepath, word_index, embedding_dim):\n",
        "    vocab_size = len(word_index) + 1\n",
        "    embedding_matrix = np.zeros((vocab_size, embedding_dim))\n",
        "    \n",
        "    with open(filepath) as f:\n",
        "        for line in f:\n",
        "            val = line.split()\n",
        "            if val[0] is word_index:\n",
        "                ind = word_index[val[0]]\n",
        "                embedding_matrix[ind] = np.array(val[1:embedding_dim + 1], \n",
        "                             'float 32')\n",
        "                \n",
        "    return embedding_matrix\n",
        "\n",
        "embedding_matrix = create_embedding_matrix('glove.twitter.27B.50d.txt', \n",
        "                      tokenizer.word_index, \n",
        "                      50)"
      ],
      "execution_count": 93,
      "outputs": []
    },
    {
      "cell_type": "code",
      "metadata": {
        "id": "hP5o4di577V1",
        "colab_type": "code",
        "colab": {}
      },
      "source": [
        "#Long Short-Term Memory\n",
        "model = Sequential()\n",
        "model.add(layers.Embedding(input_dim = vocab_size, \n",
        "              output_dim = embedding_dim,\n",
        "              weights = [embedding_matrix],\n",
        "              input_length = maxlen,\n",
        "              trainable = True))\n",
        "model.add(layers.Conv1D(32, 3, padding = 'valid', strides = 1, activation = 'relu'))\n",
        "model.add(layers.MaxPool1D(3, 1, padding = 'valid'))\n",
        "model.add(layers.Dropout(0.3))\n",
        "model.add(layers.Bidirectional(layers.LSTM(32)))\n",
        "model.add(layers.Dense(16, activation = 'relu'))\n",
        "model.add(layers.Dropout(0.3))\n",
        "model.add(layers.Dense(3, activation = 'softmax'))\n",
        "\n",
        "model.compile(optimizer = 'adam', loss = 'categorical_crossentropy', \n",
        "              metrics = ['accuracy'])\n",
        "model.summary()"
      ],
      "execution_count": null,
      "outputs": []
    },
    {
      "cell_type": "code",
      "metadata": {
        "id": "PQJaRB8y8y-C",
        "colab_type": "code",
        "colab": {}
      },
      "source": [
        "#Gated recurrent units\n",
        "model = Sequential()\n",
        "model.add(layers.Embedding(input_dim = vocab_size, \n",
        "              output_dim = embedding_dim,\n",
        "              weights = [embedding_matrix],\n",
        "              input_length = maxlen,\n",
        "              trainable = True))\n",
        "model.add(layers.Conv1D(48, 3, padding = 'valid', strides = 1, activation = 'relu'))\n",
        "model.add(layers.MaxPool1D(3, 1, padding = 'valid'))\n",
        "model.add(layers.Dropout(0.3))\n",
        "model.add(layers.GRU(48, return_sequences = True))\n",
        "#model.add(layers.GRU(12, return_sequences = False))\n",
        "#model.add(layers.Dropout(0.3))\n",
        "model.add(layers.SimpleRNN(12))\n",
        "model.add(layers.Dense(3, activation = 'softmax'))\n",
        "\n",
        "model.compile(optimizer = 'adam', loss = 'categorical_crossentropy', \n",
        "              metrics = ['accuracy'])\n",
        "model.summary()"
      ],
      "execution_count": null,
      "outputs": []
    },
    {
      "cell_type": "code",
      "metadata": {
        "id": "rYai3XQO89Yf",
        "colab_type": "code",
        "colab": {}
      },
      "source": [
        "#Convolutional neural network\n",
        "model = Sequential()\n",
        "model.add(layers.Embedding(input_dim = vocab_size, \n",
        "              output_dim = embedding_dim,\n",
        "              weights = [embedding_matrix],\n",
        "              input_length = maxlen,\n",
        "              trainable = True))\n",
        "model.add(layers.Conv1D(32, 4, padding = 'valid', strides = 1, activation = 'relu'))\n",
        "model.add(layers.MaxPool1D(2, 1))\n",
        "model.add(layers.Dropout(0.2))\n",
        "model.add(layers.Conv1D(32, 3, padding = 'valid', strides = 1, activation = 'relu'))\n",
        "model.add(layers.MaxPool1D(2, 1))\n",
        "model.add(layers.Dropout(0.2))\n",
        "model.add(layers.Conv1D(32, 2, padding = 'valid', strides = 1, activation = 'relu'))\n",
        "model.add(layers.MaxPool1D(2, 1))\n",
        "model.add(layers.Dropout(0.2))\n",
        "model.add(layers.Flatten())\n",
        "model.add(layers.Dense(16, activation = 'relu'))\n",
        "model.add(layers.Dropout(0.3))\n",
        "model.add(layers.Dense(3, activation = 'softmax'))\n",
        "\n",
        "model.compile(optimizer = 'adam', loss = 'categorical_crossentropy', metrics = ['accuracy'])\n",
        "model.summary()\n"
      ],
      "execution_count": null,
      "outputs": []
    },
    {
      "cell_type": "code",
      "metadata": {
        "id": "IFhDLcgFGffj",
        "colab_type": "code",
        "colab": {}
      },
      "source": [
        "#Model\n",
        "model = Sequential()\n",
        "model.add(layers.Embedding(input_dim = vocab_size, \n",
        "              output_dim = embedding_dim,\n",
        "              weights = [embedding_matrix],\n",
        "              input_length = maxlen,\n",
        "              trainable = True))\n",
        "model.add(layers.Conv1D(32, 3, padding = 'valid', strides = 1, activation = 'relu'))\n",
        "model.add(layers.MaxPool1D(pool_size = 2, strides = 1, padding = 'valid'))\n",
        "model.add(layers.Dropout(0.3))\n",
        "model.add(layers.Conv1D(32, 4, padding = 'valid', strides = 1, activation = 'relu'))\n",
        "model.add(layers.MaxPool1D(2, 1))\n",
        "model.add(layers.Dropout(0.3))\n",
        "model.add(layers.Conv1D(32, 2, padding = 'valid', strides = 1, activation = 'relu'))\n",
        "model.add(layers.MaxPool1D(2, 1))\n",
        "model.add(layers.Dropout(0.3))\n",
        "\n",
        "model.add(layers.GRU(32, return_sequences = True))\n",
        "model.add(layers.GRU(16, return_sequences = False))\n",
        "model.add(layers.Dense(3, activation = 'softmax'))\n",
        "\n",
        "model.compile(optimizer = 'adam', loss = 'categorical_crossentropy',\n",
        "              metrics = ['accuracy'])\n",
        "\n"
      ],
      "execution_count": 108,
      "outputs": []
    },
    {
      "cell_type": "code",
      "metadata": {
        "id": "TEVUSxAi-hSM",
        "colab_type": "code",
        "colab": {
          "base_uri": "https://localhost:8080/",
          "height": 1000
        },
        "outputId": "c5f08285-9dbd-48e8-903d-0f4d3f839992"
      },
      "source": [
        "hist = model.fit(X_train, y_train, epochs = 30, verbose = 2, batch_size = 20, validation_data = (X_test, y_test))\n"
      ],
      "execution_count": 110,
      "outputs": [
        {
          "output_type": "stream",
          "text": [
            "Epoch 1/30\n",
            "50/50 - 2s - loss: 1.0405 - accuracy: 0.4853 - val_loss: 1.0544 - val_accuracy: 0.4727\n",
            "Epoch 2/30\n",
            "50/50 - 2s - loss: 1.0413 - accuracy: 0.4853 - val_loss: 1.0559 - val_accuracy: 0.4727\n",
            "Epoch 3/30\n",
            "50/50 - 2s - loss: 1.0396 - accuracy: 0.4853 - val_loss: 1.0542 - val_accuracy: 0.4727\n",
            "Epoch 4/30\n",
            "50/50 - 2s - loss: 1.0397 - accuracy: 0.4853 - val_loss: 1.0592 - val_accuracy: 0.4727\n",
            "Epoch 5/30\n",
            "50/50 - 2s - loss: 1.0413 - accuracy: 0.4853 - val_loss: 1.0566 - val_accuracy: 0.4727\n",
            "Epoch 6/30\n",
            "50/50 - 2s - loss: 1.0411 - accuracy: 0.4853 - val_loss: 1.0565 - val_accuracy: 0.4727\n",
            "Epoch 7/30\n",
            "50/50 - 2s - loss: 1.0392 - accuracy: 0.4853 - val_loss: 1.0546 - val_accuracy: 0.4727\n",
            "Epoch 8/30\n",
            "50/50 - 2s - loss: 1.0397 - accuracy: 0.4853 - val_loss: 1.0549 - val_accuracy: 0.4727\n",
            "Epoch 9/30\n",
            "50/50 - 2s - loss: 1.0417 - accuracy: 0.4853 - val_loss: 1.0541 - val_accuracy: 0.4727\n",
            "Epoch 10/30\n",
            "50/50 - 2s - loss: 1.0410 - accuracy: 0.4853 - val_loss: 1.0537 - val_accuracy: 0.4727\n",
            "Epoch 11/30\n",
            "50/50 - 2s - loss: 1.0401 - accuracy: 0.4853 - val_loss: 1.0543 - val_accuracy: 0.4727\n",
            "Epoch 12/30\n",
            "50/50 - 2s - loss: 1.0398 - accuracy: 0.4853 - val_loss: 1.0559 - val_accuracy: 0.4727\n",
            "Epoch 13/30\n",
            "50/50 - 2s - loss: 1.0398 - accuracy: 0.4853 - val_loss: 1.0550 - val_accuracy: 0.4727\n",
            "Epoch 14/30\n",
            "50/50 - 2s - loss: 1.0391 - accuracy: 0.4853 - val_loss: 1.0548 - val_accuracy: 0.4727\n",
            "Epoch 15/30\n",
            "50/50 - 2s - loss: 1.0405 - accuracy: 0.4853 - val_loss: 1.0554 - val_accuracy: 0.4727\n",
            "Epoch 16/30\n",
            "50/50 - 2s - loss: 1.0400 - accuracy: 0.4853 - val_loss: 1.0543 - val_accuracy: 0.4727\n",
            "Epoch 17/30\n",
            "50/50 - 2s - loss: 1.0409 - accuracy: 0.4853 - val_loss: 1.0544 - val_accuracy: 0.4727\n",
            "Epoch 18/30\n",
            "50/50 - 2s - loss: 1.0399 - accuracy: 0.4853 - val_loss: 1.0545 - val_accuracy: 0.4727\n",
            "Epoch 19/30\n",
            "50/50 - 2s - loss: 1.0403 - accuracy: 0.4853 - val_loss: 1.0556 - val_accuracy: 0.4727\n",
            "Epoch 20/30\n",
            "50/50 - 2s - loss: 1.0399 - accuracy: 0.4853 - val_loss: 1.0557 - val_accuracy: 0.4727\n",
            "Epoch 21/30\n",
            "50/50 - 2s - loss: 1.0397 - accuracy: 0.4853 - val_loss: 1.0546 - val_accuracy: 0.4727\n",
            "Epoch 22/30\n",
            "50/50 - 2s - loss: 1.0391 - accuracy: 0.4853 - val_loss: 1.0548 - val_accuracy: 0.4727\n",
            "Epoch 23/30\n",
            "50/50 - 2s - loss: 1.0395 - accuracy: 0.4853 - val_loss: 1.0550 - val_accuracy: 0.4727\n",
            "Epoch 24/30\n",
            "50/50 - 2s - loss: 1.0412 - accuracy: 0.4853 - val_loss: 1.0543 - val_accuracy: 0.4727\n",
            "Epoch 25/30\n",
            "50/50 - 2s - loss: 1.0394 - accuracy: 0.4853 - val_loss: 1.0546 - val_accuracy: 0.4727\n",
            "Epoch 26/30\n",
            "50/50 - 2s - loss: 1.0400 - accuracy: 0.4853 - val_loss: 1.0544 - val_accuracy: 0.4727\n",
            "Epoch 27/30\n",
            "50/50 - 2s - loss: 1.0399 - accuracy: 0.4853 - val_loss: 1.0549 - val_accuracy: 0.4727\n",
            "Epoch 28/30\n",
            "50/50 - 2s - loss: 1.0397 - accuracy: 0.4853 - val_loss: 1.0545 - val_accuracy: 0.4727\n",
            "Epoch 29/30\n",
            "50/50 - 2s - loss: 1.0404 - accuracy: 0.4853 - val_loss: 1.0545 - val_accuracy: 0.4727\n",
            "Epoch 30/30\n",
            "50/50 - 2s - loss: 1.0398 - accuracy: 0.4853 - val_loss: 1.0555 - val_accuracy: 0.4727\n"
          ],
          "name": "stdout"
        }
      ]
    },
    {
      "cell_type": "code",
      "metadata": {
        "id": "N0YC4KBaF7vA",
        "colab_type": "code",
        "colab": {
          "base_uri": "https://localhost:8080/",
          "height": 370
        },
        "outputId": "c082bbe7-b249-4683-8cfb-32aead614f2c"
      },
      "source": [
        "loss, accuracy = model.evaluate(X_train, y_train, verbose = False)\n",
        "print('Training Accuracy: {:.4f}'.format(accuracy))\n",
        "\n",
        "loss, accuracy = model.evaluate(X_test, y_test, verbose = False)\n",
        "print('Testing Accuracy: {:.4f}'.format(accuracy))\n",
        "\n",
        "plot_history(hist)"
      ],
      "execution_count": 111,
      "outputs": [
        {
          "output_type": "stream",
          "text": [
            "Training Accuracy: 0.4853\n",
            "Testing Accuracy: 0.4727\n"
          ],
          "name": "stdout"
        },
        {
          "output_type": "display_data",
          "data": {
            "image/png": "[encoded data removed]",
            "text/plain": [
              "<Figure size 864x360 with 2 Axes>"
            ]
          },
          "metadata": {
            "tags": []
          }
        }
      ]
    },
    {
      "cell_type": "code",
      "metadata": {
        "id": "c5l4b2MnSNud",
        "colab_type": "code",
        "colab": {
          "base_uri": "https://localhost:8080/",
          "height": 87
        },
        "outputId": "40e1c639-8348-49c3-a7c8-273b141f9960"
      },
      "source": [
        "prediction_train = [i.argmax() for i in model.predict(X_train)]\n",
        "prediction_test = [i.argmax() for i in model.predict(X_test)]\n",
        "\n",
        "Y_train_hat = np.array(prediction_train)\n",
        "Y_test_hat = np.array(prediction_test)\n",
        "Y_train = np.array([i.argmax() for i in y_train])\n",
        "Y_test = np.array([i.argmax() for i in y_test])\n",
        "\n",
        "tp = sum((Y_test == Y_test_hat) & (Y_test == 2))\n",
        "tn = sum((Y_test == Y_test_hat) & (Y_test != 2))\n",
        "fp = sum((Y_test != Y_test_hat) & (Y_test_hat == 2))\n",
        "fn = sum((Y_test != Y_test_hat) & (Y_test == 2))\n",
        "\n",
        "precision = tp/(tp+fp)\n",
        "recall = tp/(tp+fn)\n",
        "\n",
        "f1 = 2 * precision * recall / (precision + recall)\n",
        "precision, recall, f1"
      ],
      "execution_count": 112,
      "outputs": [
        {
          "output_type": "stream",
          "text": [
            "/usr/local/lib/python3.6/dist-packages/ipykernel_launcher.py:14: RuntimeWarning: invalid value encountered in long_scalars\n",
            "  \n"
          ],
          "name": "stderr"
        },
        {
          "output_type": "execute_result",
          "data": {
            "text/plain": [
              "(nan, 0.0, nan)"
            ]
          },
          "metadata": {
            "tags": []
          },
          "execution_count": 112
        }
      ]
    },
    {
      "cell_type": "code",
      "metadata": {
        "id": "hkBLU0xfGvem",
        "colab_type": "code",
        "colab": {}
      },
      "source": [
        "from tensorflow.keras.models import model_from_json\n",
        "\n",
        "jsonModel = model.to_json()\n",
        "with open(\"model101.json\", \"w\") as json_file:\n",
        "  json_file.write(jsonModel)\n",
        "\n",
        "model.save_weights(\"model101.h5\")"
      ],
      "execution_count": 113,
      "outputs": []
    }
  ]
}
