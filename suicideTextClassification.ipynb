{
  "nbformat": 4,
  "nbformat_minor": 0,
  "metadata": {
    "colab": {
      "name": "suicideTextClassification.ipynb",
      "provenance": [],
      "collapsed_sections": []
    },
    "kernelspec": {
      "name": "python3",
      "display_name": "Python 3"
    },
    "accelerator": "GPU"
  },
  "cells": [
    {
      "cell_type": "code",
      "metadata": {
        "id": "I9Jw8tfrwMLO",
        "colab_type": "code",
        "colab": {
          "base_uri": "https://localhost:8080/",
          "height": 122
        },
        "outputId": "12495300-92d8-4a47-b1d1-318c8e210071"
      },
      "source": [
        "import pandas as pd\n",
        "import nltk\n",
        "from nltk.corpus import stopwords\n",
        "import string\n",
        "import re\n",
        "from sklearn.model_selection import train_test_split\n",
        "import tensorflow as tf\n",
        "from keras.preprocessing.text import Tokenizer\n",
        "from tensorflow.keras.preprocessing.sequence import pad_sequences\n",
        "import numpy as np\n",
        "import matplotlib.pyplot as plt\n",
        "from keras import layers\n",
        "from keras.models import Sequential\n",
        "from numpy import array\n",
        "from keras.preprocessing.text import one_hot\n",
        "from keras.preprocessing.sequence import pad_sequences\n",
        "from keras.models import Sequential\n",
        "from keras.layers.core import Activation, Dropout, Dense\n",
        "from keras.layers import Flatten, LSTM\n",
        "from keras.layers import GlobalMaxPooling1D\n",
        "from keras.models import Model\n",
        "from keras.layers.embeddings import Embedding\n",
        "from sklearn.model_selection import train_test_split\n",
        "from keras.preprocessing.text import Tokenizer\n",
        "from keras.layers import Input\n",
        "from keras.layers.merge import Concatenate\n",
        "import imblearn\n",
        "import pandas as pd\n",
        "import numpy as np\n",
        "import re\n",
        "import matplotlib.pyplot as plt\n",
        "from sklearn.preprocessing import OneHotEncoder\n",
        "from imblearn.over_sampling import SMOTE"
      ],
      "execution_count": 1,
      "outputs": [
        {
          "output_type": "stream",
          "text": [
            "Using TensorFlow backend.\n",
            "/usr/local/lib/python3.6/dist-packages/sklearn/externals/six.py:31: FutureWarning: The module is deprecated in version 0.21 and will be removed in version 0.23 since we've dropped support for Python 2.7. Please rely on the official version of six (https://pypi.org/project/six/).\n",
            "  \"(https://pypi.org/project/six/).\", FutureWarning)\n",
            "/usr/local/lib/python3.6/dist-packages/sklearn/utils/deprecation.py:144: FutureWarning: The sklearn.neighbors.base module is  deprecated in version 0.22 and will be removed in version 0.24. The corresponding classes / functions should instead be imported from sklearn.neighbors. Anything that cannot be imported from sklearn.neighbors is now part of the private API.\n",
            "  warnings.warn(message, FutureWarning)\n"
          ],
          "name": "stderr"
        }
      ]
    },
    {
      "cell_type": "code",
      "metadata": {
        "id": "K25w-5M20RCz",
        "colab_type": "code",
        "colab": {
          "base_uri": "https://localhost:8080/",
          "height": 68
        },
        "outputId": "14830d00-fb07-4042-b84f-9dbc9d44784b"
      },
      "source": [
        "nltk.download(\"stopwords\")"
      ],
      "execution_count": 2,
      "outputs": [
        {
          "output_type": "stream",
          "text": [
            "[nltk_data] Downloading package stopwords to /root/nltk_data...\n",
            "[nltk_data]   Unzipping corpora/stopwords.zip.\n"
          ],
          "name": "stdout"
        },
        {
          "output_type": "execute_result",
          "data": {
            "text/plain": [
              "True"
            ]
          },
          "metadata": {
            "tags": []
          },
          "execution_count": 2
        }
      ]
    },
    {
      "cell_type": "code",
      "metadata": {
        "id": "9LBTTw4KwmTt",
        "colab_type": "code",
        "colab": {}
      },
      "source": [
        "data = pd.read_csv('/content/drive/My Drive/Colab Notebooks/suicideTextClassification/Data/data.csv')"
      ],
      "execution_count": 3,
      "outputs": []
    },
    {
      "cell_type": "code",
      "metadata": {
        "id": "W6gpKOidw55A",
        "colab_type": "code",
        "colab": {
          "base_uri": "https://localhost:8080/",
          "height": 359
        },
        "outputId": "fe104abc-bc01-451e-fafe-024b397554e1"
      },
      "source": [
        "data.head(10)"
      ],
      "execution_count": 4,
      "outputs": [
        {
          "output_type": "execute_result",
          "data": {
            "text/html": [
              "<div>\n",
              "<style scoped>\n",
              "    .dataframe tbody tr th:only-of-type {\n",
              "        vertical-align: middle;\n",
              "    }\n",
              "\n",
              "    .dataframe tbody tr th {\n",
              "        vertical-align: top;\n",
              "    }\n",
              "\n",
              "    .dataframe thead th {\n",
              "        text-align: right;\n",
              "    }\n",
              "</style>\n",
              "<table border=\"1\" class=\"dataframe\">\n",
              "  <thead>\n",
              "    <tr style=\"text-align: right;\">\n",
              "      <th></th>\n",
              "      <th>Text</th>\n",
              "      <th>Ideation</th>\n",
              "    </tr>\n",
              "  </thead>\n",
              "  <tbody>\n",
              "    <tr>\n",
              "      <th>0</th>\n",
              "      <td>A life without coffee is a life not worth livi...</td>\n",
              "      <td>0</td>\n",
              "    </tr>\n",
              "    <tr>\n",
              "      <th>1</th>\n",
              "      <td>Life without risks is not worth living.</td>\n",
              "      <td>0</td>\n",
              "    </tr>\n",
              "    <tr>\n",
              "      <th>2</th>\n",
              "      <td>Living your life in fear is a life not Worth l...</td>\n",
              "      <td>0</td>\n",
              "    </tr>\n",
              "    <tr>\n",
              "      <th>3</th>\n",
              "      <td>Sometimes, I feel like I’m not worth living, I...</td>\n",
              "      <td>1</td>\n",
              "    </tr>\n",
              "    <tr>\n",
              "      <th>4</th>\n",
              "      <td>There is no actual meaning to life, but it doe...</td>\n",
              "      <td>0</td>\n",
              "    </tr>\n",
              "    <tr>\n",
              "      <th>5</th>\n",
              "      <td>A life without chocolate is a life not worth l...</td>\n",
              "      <td>0</td>\n",
              "    </tr>\n",
              "    <tr>\n",
              "      <th>6</th>\n",
              "      <td>I guess I’m not worth living.</td>\n",
              "      <td>1</td>\n",
              "    </tr>\n",
              "    <tr>\n",
              "      <th>7</th>\n",
              "      <td>Life is not worth living without the one you love</td>\n",
              "      <td>0</td>\n",
              "    </tr>\n",
              "    <tr>\n",
              "      <th>8</th>\n",
              "      <td>My life is ruined. It's not worth living.</td>\n",
              "      <td>1</td>\n",
              "    </tr>\n",
              "    <tr>\n",
              "      <th>9</th>\n",
              "      <td>This lockdown proves a life with no sport is a...</td>\n",
              "      <td>0</td>\n",
              "    </tr>\n",
              "  </tbody>\n",
              "</table>\n",
              "</div>"
            ],
            "text/plain": [
              "                                                Text  Ideation\n",
              "0  A life without coffee is a life not worth livi...         0\n",
              "1            Life without risks is not worth living.         0\n",
              "2  Living your life in fear is a life not Worth l...         0\n",
              "3  Sometimes, I feel like I’m not worth living, I...         1\n",
              "4  There is no actual meaning to life, but it doe...         0\n",
              "5  A life without chocolate is a life not worth l...         0\n",
              "6                      I guess I’m not worth living.         1\n",
              "7  Life is not worth living without the one you love         0\n",
              "8          My life is ruined. It's not worth living.         1\n",
              "9  This lockdown proves a life with no sport is a...         0"
            ]
          },
          "metadata": {
            "tags": []
          },
          "execution_count": 4
        }
      ]
    },
    {
      "cell_type": "code",
      "metadata": {
        "id": "8BME4o_ZxOgy",
        "colab_type": "code",
        "colab": {
          "base_uri": "https://localhost:8080/",
          "height": 297
        },
        "outputId": "a4654586-7e69-44f2-8193-b40cc1c8fc91"
      },
      "source": [
        "data.describe()"
      ],
      "execution_count": 5,
      "outputs": [
        {
          "output_type": "execute_result",
          "data": {
            "text/html": [
              "<div>\n",
              "<style scoped>\n",
              "    .dataframe tbody tr th:only-of-type {\n",
              "        vertical-align: middle;\n",
              "    }\n",
              "\n",
              "    .dataframe tbody tr th {\n",
              "        vertical-align: top;\n",
              "    }\n",
              "\n",
              "    .dataframe thead th {\n",
              "        text-align: right;\n",
              "    }\n",
              "</style>\n",
              "<table border=\"1\" class=\"dataframe\">\n",
              "  <thead>\n",
              "    <tr style=\"text-align: right;\">\n",
              "      <th></th>\n",
              "      <th>Ideation</th>\n",
              "    </tr>\n",
              "  </thead>\n",
              "  <tbody>\n",
              "    <tr>\n",
              "      <th>count</th>\n",
              "      <td>1285.000000</td>\n",
              "    </tr>\n",
              "    <tr>\n",
              "      <th>mean</th>\n",
              "      <td>0.715175</td>\n",
              "    </tr>\n",
              "    <tr>\n",
              "      <th>std</th>\n",
              "      <td>0.776281</td>\n",
              "    </tr>\n",
              "    <tr>\n",
              "      <th>min</th>\n",
              "      <td>0.000000</td>\n",
              "    </tr>\n",
              "    <tr>\n",
              "      <th>25%</th>\n",
              "      <td>0.000000</td>\n",
              "    </tr>\n",
              "    <tr>\n",
              "      <th>50%</th>\n",
              "      <td>1.000000</td>\n",
              "    </tr>\n",
              "    <tr>\n",
              "      <th>75%</th>\n",
              "      <td>1.000000</td>\n",
              "    </tr>\n",
              "    <tr>\n",
              "      <th>max</th>\n",
              "      <td>2.000000</td>\n",
              "    </tr>\n",
              "  </tbody>\n",
              "</table>\n",
              "</div>"
            ],
            "text/plain": [
              "          Ideation\n",
              "count  1285.000000\n",
              "mean      0.715175\n",
              "std       0.776281\n",
              "min       0.000000\n",
              "25%       0.000000\n",
              "50%       1.000000\n",
              "75%       1.000000\n",
              "max       2.000000"
            ]
          },
          "metadata": {
            "tags": []
          },
          "execution_count": 5
        }
      ]
    },
    {
      "cell_type": "code",
      "metadata": {
        "id": "FqmU0Zz1y0Wz",
        "colab_type": "code",
        "colab": {
          "base_uri": "https://localhost:8080/",
          "height": 265
        },
        "outputId": "76add1cc-297c-49ef-edb6-2b7244430c8a"
      },
      "source": [
        "densityPlot = data.plot.kde()"
      ],
      "execution_count": 6,
      "outputs": [
        {
          "output_type": "display_data",
          "data": {
            "image/png": "[encoded data removed]",
            "text/plain": [
              "<Figure size 432x288 with 1 Axes>"
            ]
          },
          "metadata": {
            "tags": [],
            "needs_background": "light"
          }
        }
      ]
    },
    {
      "cell_type": "code",
      "metadata": {
        "id": "hePzabN0zPnj",
        "colab_type": "code",
        "colab": {}
      },
      "source": [
        "# Data Cleaning\n",
        "\n",
        "\"\"\"\n",
        "A utility function to remove punctuations from the text.\n",
        "\n",
        "\"\"\"\n",
        "\n",
        "def remove_punctuations(text):\n",
        "    text  = \"\".join([char for char in text if char not in string.punctuation])\n",
        "    text = re.sub('[0-9]+', '', text)\n",
        "    return text\n",
        "\n",
        "\n",
        "\"\"\"\n",
        "A utility function to remove numerical characters from the text.\n",
        "\n",
        "\"\"\"\n",
        "\n",
        "def remove_nums(text):\n",
        "    text = ''.join([i for i in text if not i.isdigit()])         \n",
        "    return text\n",
        "\n",
        "\n",
        "\"\"\"\n",
        "A utility function to remove URL links from the text.\n",
        "\n",
        "\"\"\"\n",
        "\n",
        "def remove_URL(text):\n",
        "    url = re.compile(r'https?://\\S+|www\\.\\S+')\n",
        "    return url.sub(r'',text)\n",
        "\n",
        "\n",
        "\"\"\"\n",
        "A utility function to remove HTML tags from the text.\n",
        "\n",
        "\"\"\"\n",
        "\n",
        "def remove_html(text):\n",
        "    html=re.compile(r'<.*?>')\n",
        "    return html.sub(r'',text)\n",
        "\n",
        "\n",
        "\"\"\"\n",
        "A utility function to remove emojis from the text.\n",
        "\n",
        "\"\"\"\n",
        "\n",
        "def remove_emoji(text):\n",
        "    emoji_pattern = re.compile(\"[\"\n",
        "                           u\"\\U0001F600-\\U0001F64F\"  # emoticons\n",
        "                           u\"\\U0001F300-\\U0001F5FF\"  # symbols & pictographs\n",
        "                           u\"\\U0001F680-\\U0001F6FF\"  # transport & map symbols\n",
        "                           u\"\\U0001F1E0-\\U0001F1FF\"  # flags (iOS)\n",
        "                           u\"\\U00002702-\\U000027B0\"\n",
        "                           u\"\\U000024C2-\\U0001F251\"\n",
        "                           \"]+\", flags=re.UNICODE)\n",
        "    return emoji_pattern.sub(r'', text)\n",
        "\n",
        "\n",
        "stop_words = set(stopwords.words('english'))\n",
        "\n",
        "\"\"\"\n",
        "A utility function to remove stopwords from the text.\n",
        "\n",
        "\"\"\"\n",
        "\n",
        "def clean_stopwords(text):\n",
        "    res = [w for w in text.split() if not w in stop_words]\n",
        "    res_string = \" \".join(str(x) for x in res)\n",
        "    return res_string"
      ],
      "execution_count": 7,
      "outputs": []
    },
    {
      "cell_type": "code",
      "metadata": {
        "id": "7oLswjSI0DaJ",
        "colab_type": "code",
        "colab": {
          "base_uri": "https://localhost:8080/",
          "height": 359
        },
        "outputId": "3df8f572-a1bd-4d99-f02d-c5c1b6b86086"
      },
      "source": [
        "data[\"Text\"] = data[\"Text\"].apply(lambda x: remove_punctuations(x))\n",
        "data[\"Text\"] = data[\"Text\"].apply(lambda x: remove_nums(x))\n",
        "data[\"Text\"] = data[\"Text\"].apply(lambda x: remove_URL(x))\n",
        "data[\"Text\"] = data[\"Text\"].apply(lambda x: remove_html(x))\n",
        "data[\"Text\"] = data[\"Text\"].apply(lambda x: remove_emoji(x))\n",
        "data[\"Text\"] = data[\"Text\"].apply(lambda x: clean_stopwords(x))\n",
        "\n",
        "data = data.sample(frac = 1).reset_index(drop=True).reset_index(drop = True)\n",
        "\n",
        "data.head(10)"
      ],
      "execution_count": 8,
      "outputs": [
        {
          "output_type": "execute_result",
          "data": {
            "text/html": [
              "<div>\n",
              "<style scoped>\n",
              "    .dataframe tbody tr th:only-of-type {\n",
              "        vertical-align: middle;\n",
              "    }\n",
              "\n",
              "    .dataframe tbody tr th {\n",
              "        vertical-align: top;\n",
              "    }\n",
              "\n",
              "    .dataframe thead th {\n",
              "        text-align: right;\n",
              "    }\n",
              "</style>\n",
              "<table border=\"1\" class=\"dataframe\">\n",
              "  <thead>\n",
              "    <tr style=\"text-align: right;\">\n",
              "      <th></th>\n",
              "      <th>Text</th>\n",
              "      <th>Ideation</th>\n",
              "    </tr>\n",
              "  </thead>\n",
              "  <tbody>\n",
              "    <tr>\n",
              "      <th>0</th>\n",
              "      <td>I got two accidents last year car insurance mo...</td>\n",
              "      <td>0</td>\n",
              "    </tr>\n",
              "    <tr>\n",
              "      <th>1</th>\n",
              "      <td>I don’t see problem actually don’t want</td>\n",
              "      <td>0</td>\n",
              "    </tr>\n",
              "    <tr>\n",
              "      <th>2</th>\n",
              "      <td>missed Collins birthday want fucking kill</td>\n",
              "      <td>0</td>\n",
              "    </tr>\n",
              "    <tr>\n",
              "      <th>3</th>\n",
              "      <td>one deserves feel like suicide answer feeling ...</td>\n",
              "      <td>0</td>\n",
              "    </tr>\n",
              "    <tr>\n",
              "      <th>4</th>\n",
              "      <td>please encourage kill genuinely need</td>\n",
              "      <td>1</td>\n",
              "    </tr>\n",
              "    <tr>\n",
              "      <th>5</th>\n",
              "      <td>I suicide plan Going enjoy last little moments...</td>\n",
              "      <td>2</td>\n",
              "    </tr>\n",
              "    <tr>\n",
              "      <th>6</th>\n",
              "      <td>Dad come pick I’m scared I don’t want anymore</td>\n",
              "      <td>0</td>\n",
              "    </tr>\n",
              "    <tr>\n",
              "      <th>7</th>\n",
              "      <td>I don’t want I want die Always sad I’ll never ...</td>\n",
              "      <td>2</td>\n",
              "    </tr>\n",
              "    <tr>\n",
              "      <th>8</th>\n",
              "      <td>dont want anymore Just let die</td>\n",
              "      <td>2</td>\n",
              "    </tr>\n",
              "    <tr>\n",
              "      <th>9</th>\n",
              "      <td>I don’t get much help hospital I’m suicidal</td>\n",
              "      <td>0</td>\n",
              "    </tr>\n",
              "  </tbody>\n",
              "</table>\n",
              "</div>"
            ],
            "text/plain": [
              "                                                Text  Ideation\n",
              "0  I got two accidents last year car insurance mo...         0\n",
              "1            I don’t see problem actually don’t want         0\n",
              "2          missed Collins birthday want fucking kill         0\n",
              "3  one deserves feel like suicide answer feeling ...         0\n",
              "4               please encourage kill genuinely need         1\n",
              "5  I suicide plan Going enjoy last little moments...         2\n",
              "6      Dad come pick I’m scared I don’t want anymore         0\n",
              "7  I don’t want I want die Always sad I’ll never ...         2\n",
              "8                     dont want anymore Just let die         2\n",
              "9        I don’t get much help hospital I’m suicidal         0"
            ]
          },
          "metadata": {
            "tags": []
          },
          "execution_count": 8
        }
      ]
    },
    {
      "cell_type": "code",
      "metadata": {
        "id": "AOtk7uNhLMAA",
        "colab_type": "code",
        "colab": {}
      },
      "source": [
        "tf.random.set_seed(42)\n",
        "\n",
        "trunc_type='post'\n",
        "padding_type='post'\n",
        "oov_tok = \"<OOV>\"\n",
        "training_size = 1200\n",
        "max_length = 50\n",
        "\n",
        "\n",
        "\n",
        "# Split Labels\n",
        "\n",
        "temp = [x for x in data[\"Text\"].tolist()]\n",
        "train_sentences = temp[:training_size]\n",
        "test_sentences = temp[training_size:]\n",
        "\n",
        "temp2 = [x for x in data[\"Ideation\"].tolist()]\n",
        "train_labels = temp2[:training_size]\n",
        "test_labels = temp2[training_size:]\n",
        "tokenizer = Tokenizer(num_words=5000, oov_token=oov_tok)\n",
        "tokenizer.fit_on_texts(train_sentences)\n",
        "\n",
        "vocab_size = len(tokenizer.word_index) + 1\n",
        "word_index = tokenizer.word_index\n",
        "\n",
        "train_sequences = tokenizer.texts_to_sequences(train_sentences)\n",
        "train_padded = pad_sequences(train_sequences, maxlen=max_length, padding=padding_type, truncating=trunc_type)\n",
        "\n",
        "test_sequences = tokenizer.texts_to_sequences(test_sentences)\n",
        "test_padded = pad_sequences(test_sequences, maxlen=max_length, padding=padding_type, truncating=trunc_type)"
      ],
      "execution_count": 9,
      "outputs": []
    },
    {
      "cell_type": "code",
      "metadata": {
        "id": "H1phzkRbNhNu",
        "colab_type": "code",
        "colab": {}
      },
      "source": [
        "# Convert to Numpy Array\n",
        "\n",
        "train_padded = np.array(train_padded)\n",
        "train_labels = np.array(train_labels)\n",
        "\n",
        "test_padded = np.array(test_padded)\n",
        "test_labels = np.array(test_labels)"
      ],
      "execution_count": 10,
      "outputs": []
    },
    {
      "cell_type": "code",
      "metadata": {
        "id": "13S2dxA3x3rq",
        "colab_type": "code",
        "colab": {}
      },
      "source": [
        "encoder = OneHotEncoder(sparse = False)\n",
        "train_labels = train_labels.reshape((len(train_labels), 1))\n",
        "train_labels = encoder.fit_transform(train_labels)\n",
        "test_labels = test_labels.reshape((len(test_labels), 1))\n",
        "test_labels = encoder.fit_transform(test_labels)"
      ],
      "execution_count": 11,
      "outputs": []
    },
    {
      "cell_type": "code",
      "metadata": {
        "id": "Idy-bdCWy7pb",
        "colab_type": "code",
        "colab": {
          "base_uri": "https://localhost:8080/",
          "height": 136
        },
        "outputId": "7c404a0f-8d99-4d4c-9806-4c36cfa2474d"
      },
      "source": [
        "train_labels"
      ],
      "execution_count": 12,
      "outputs": [
        {
          "output_type": "execute_result",
          "data": {
            "text/plain": [
              "array([[1., 0., 0.],\n",
              "       [1., 0., 0.],\n",
              "       [1., 0., 0.],\n",
              "       ...,\n",
              "       [0., 0., 1.],\n",
              "       [1., 0., 0.],\n",
              "       [1., 0., 0.]])"
            ]
          },
          "metadata": {
            "tags": []
          },
          "execution_count": 12
        }
      ]
    },
    {
      "cell_type": "code",
      "metadata": {
        "id": "coYKNEfdp9Gw",
        "colab_type": "code",
        "colab": {
          "base_uri": "https://localhost:8080/",
          "height": 136
        },
        "outputId": "07812ca0-5388-4121-dbb1-84e55dd1d64a"
      },
      "source": [
        "train_padded"
      ],
      "execution_count": 13,
      "outputs": [
        {
          "output_type": "execute_result",
          "data": {
            "text/plain": [
              "array([[  2, 104, 150, ...,   0,   0,   0],\n",
              "       [  2,  18,  53, ...,   0,   0,   0],\n",
              "       [917, 918, 220, ...,   0,   0,   0],\n",
              "       ...,\n",
              "       [  2,   5, 197, ...,   0,   0,   0],\n",
              "       [ 54, 248,  22, ...,   0,   0,   0],\n",
              "       [179,  67,   9, ...,   0,   0,   0]], dtype=int32)"
            ]
          },
          "metadata": {
            "tags": []
          },
          "execution_count": 13
        }
      ]
    },
    {
      "cell_type": "code",
      "metadata": {
        "id": "TQeYiZ6XqJiT",
        "colab_type": "code",
        "colab": {
          "base_uri": "https://localhost:8080/",
          "height": 34
        },
        "outputId": "d1977e48-da16-4f2a-9baa-d024ac6da4b3"
      },
      "source": [
        "train_padded.shape"
      ],
      "execution_count": 14,
      "outputs": [
        {
          "output_type": "execute_result",
          "data": {
            "text/plain": [
              "(1200, 50)"
            ]
          },
          "metadata": {
            "tags": []
          },
          "execution_count": 14
        }
      ]
    },
    {
      "cell_type": "code",
      "metadata": {
        "id": "vhn0kRcyqObQ",
        "colab_type": "code",
        "colab": {
          "base_uri": "https://localhost:8080/",
          "height": 34
        },
        "outputId": "fd4c9ea2-a0e4-4d02-e859-1ed7a015d23b"
      },
      "source": [
        "train_labels.shape"
      ],
      "execution_count": 15,
      "outputs": [
        {
          "output_type": "execute_result",
          "data": {
            "text/plain": [
              "(1200, 3)"
            ]
          },
          "metadata": {
            "tags": []
          },
          "execution_count": 15
        }
      ]
    },
    {
      "cell_type": "code",
      "metadata": {
        "id": "WtWMTz8YR2V5",
        "colab_type": "code",
        "colab": {}
      },
      "source": [
        "def create_embedding_matrix(filepath, word_index, embedding_dim):\n",
        "    vocab_size = len(word_index) + 1\n",
        "    embedding_matrix = np.zeros((vocab_size, embedding_dim))\n",
        "    \n",
        "    with open(filepath, encoding = 'utf8') as f:\n",
        "        for line in f:\n",
        "            values = line.split()\n",
        "            if values[0] in word_index:\n",
        "                idx = word_index[values[0]]\n",
        "                embedding_matrix[idx] = np.asarray(values[1:embedding_dim+1], 'float32')\n",
        "                \n",
        "    return embedding_matrix"
      ],
      "execution_count": 16,
      "outputs": []
    },
    {
      "cell_type": "code",
      "metadata": {
        "id": "uEV6c7yfR3Px",
        "colab_type": "code",
        "colab": {}
      },
      "source": [
        "embedding_dim = 50\n",
        "embedding_matrix = create_embedding_matrix('/content/drive/My Drive/Colab Notebooks/suicideTextClassification/Data/glove.twitter.27B.50d.txt', \n",
        "                                           tokenizer.word_index, \n",
        "                                           embedding_dim)"
      ],
      "execution_count": 17,
      "outputs": []
    },
    {
      "cell_type": "code",
      "metadata": {
        "id": "5X225XdIN5fI",
        "colab_type": "code",
        "colab": {
          "base_uri": "https://localhost:8080/",
          "height": 425
        },
        "outputId": "0ed0139b-7a57-4ebe-f243-94298be0f680"
      },
      "source": [
        "model = Sequential()\n",
        "model.add(layers.Embedding(input_dim = vocab_size, \n",
        "                               output_dim = 50,\n",
        "                               input_length = 50,\n",
        "                               weights = [embedding_matrix],\n",
        "                               trainable = True))\n",
        "model.add(layers.Conv1D(32, 3, padding = 'valid', strides = 1, activation = 'relu'))\n",
        "model.add(layers.MaxPool1D(pool_size = 3, strides = 1, padding = 'valid'))\n",
        "model.add(layers.Dropout(0.3))\n",
        "model.add(layers.Bidirectional(layers.LSTM(32)))\n",
        "model.add(layers.Dense(16, activation = 'relu'))\n",
        "model.add(layers.Dropout(0.3))\n",
        "model.add(layers.Dense(3, activation = 'softmax'))\n",
        "model.compile(optimizer='adam',\n",
        "              loss='categorical_crossentropy',\n",
        "              metrics=['accuracy'])\n",
        "model.summary()"
      ],
      "execution_count": 18,
      "outputs": [
        {
          "output_type": "stream",
          "text": [
            "Model: \"sequential_1\"\n",
            "_________________________________________________________________\n",
            "Layer (type)                 Output Shape              Param #   \n",
            "=================================================================\n",
            "embedding_1 (Embedding)      (None, 50, 50)            113400    \n",
            "_________________________________________________________________\n",
            "conv1d_1 (Conv1D)            (None, 48, 32)            4832      \n",
            "_________________________________________________________________\n",
            "max_pooling1d_1 (MaxPooling1 (None, 46, 32)            0         \n",
            "_________________________________________________________________\n",
            "dropout_1 (Dropout)          (None, 46, 32)            0         \n",
            "_________________________________________________________________\n",
            "bidirectional_1 (Bidirection (None, 64)                16640     \n",
            "_________________________________________________________________\n",
            "dense_1 (Dense)              (None, 16)                1040      \n",
            "_________________________________________________________________\n",
            "dropout_2 (Dropout)          (None, 16)                0         \n",
            "_________________________________________________________________\n",
            "dense_2 (Dense)              (None, 3)                 51        \n",
            "=================================================================\n",
            "Total params: 135,963\n",
            "Trainable params: 135,963\n",
            "Non-trainable params: 0\n",
            "_________________________________________________________________\n"
          ],
          "name": "stdout"
        }
      ]
    },
    {
      "cell_type": "code",
      "metadata": {
        "id": "bpv2BjFeQGTh",
        "colab_type": "code",
        "colab": {}
      },
      "source": [
        "def plot_graphs(history, string):\n",
        "    plt.plot(history.history[string])\n",
        "    plt.plot(history.history['val_'+string])\n",
        "    plt.xlabel(\"Epochs\")\n",
        "    plt.ylabel(string)\n",
        "    plt.legend([string, 'val_'+string])\n",
        "    plt.show()"
      ],
      "execution_count": 19,
      "outputs": []
    },
    {
      "cell_type": "code",
      "metadata": {
        "id": "pdiVaD1BOaib",
        "colab_type": "code",
        "colab": {
          "base_uri": "https://localhost:8080/",
          "height": 1000
        },
        "outputId": "83d03476-cdd5-49d3-fc37-eab24ef8d38e"
      },
      "source": [
        "num_epochs = 30\n",
        "\n",
        "history = model.fit(train_padded, train_labels, epochs=num_epochs, verbose=1, validation_split=0.05,)"
      ],
      "execution_count": 20,
      "outputs": [
        {
          "output_type": "stream",
          "text": [
            "/usr/local/lib/python3.6/dist-packages/tensorflow/python/framework/indexed_slices.py:434: UserWarning: Converting sparse IndexedSlices to a dense Tensor of unknown shape. This may consume a large amount of memory.\n",
            "  \"Converting sparse IndexedSlices to a dense Tensor of unknown shape. \"\n"
          ],
          "name": "stderr"
        },
        {
          "output_type": "stream",
          "text": [
            "Train on 1140 samples, validate on 60 samples\n",
            "Epoch 1/30\n",
            "1140/1140 [==============================] - 14s 12ms/step - loss: 1.0212 - accuracy: 0.4596 - val_loss: 1.0076 - val_accuracy: 0.4167\n",
            "Epoch 2/30\n",
            "1140/1140 [==============================] - 6s 5ms/step - loss: 0.9395 - accuracy: 0.5482 - val_loss: 0.9130 - val_accuracy: 0.5833\n",
            "Epoch 3/30\n",
            "1140/1140 [==============================] - 6s 5ms/step - loss: 0.8848 - accuracy: 0.5772 - val_loss: 0.9203 - val_accuracy: 0.5667\n",
            "Epoch 4/30\n",
            "1140/1140 [==============================] - 6s 6ms/step - loss: 0.8160 - accuracy: 0.6316 - val_loss: 0.9008 - val_accuracy: 0.6167\n",
            "Epoch 5/30\n",
            "1140/1140 [==============================] - 6s 5ms/step - loss: 0.7852 - accuracy: 0.6351 - val_loss: 0.8697 - val_accuracy: 0.5833\n",
            "Epoch 6/30\n",
            "1140/1140 [==============================] - 6s 5ms/step - loss: 0.6990 - accuracy: 0.6877 - val_loss: 0.8980 - val_accuracy: 0.6333\n",
            "Epoch 7/30\n",
            "1140/1140 [==============================] - 6s 5ms/step - loss: 0.6625 - accuracy: 0.7123 - val_loss: 0.9034 - val_accuracy: 0.6333\n",
            "Epoch 8/30\n",
            "1140/1140 [==============================] - 6s 5ms/step - loss: 0.5561 - accuracy: 0.7719 - val_loss: 0.9143 - val_accuracy: 0.6667\n",
            "Epoch 9/30\n",
            "1140/1140 [==============================] - 6s 5ms/step - loss: 0.4597 - accuracy: 0.8175 - val_loss: 0.9312 - val_accuracy: 0.6500\n",
            "Epoch 10/30\n",
            "1140/1140 [==============================] - 6s 5ms/step - loss: 0.4309 - accuracy: 0.8351 - val_loss: 1.0851 - val_accuracy: 0.6167\n",
            "Epoch 11/30\n",
            "1140/1140 [==============================] - 6s 5ms/step - loss: 0.3853 - accuracy: 0.8623 - val_loss: 1.0171 - val_accuracy: 0.6667\n",
            "Epoch 12/30\n",
            "1140/1140 [==============================] - 6s 5ms/step - loss: 0.3457 - accuracy: 0.8719 - val_loss: 1.1010 - val_accuracy: 0.6333\n",
            "Epoch 13/30\n",
            "1140/1140 [==============================] - 6s 5ms/step - loss: 0.3187 - accuracy: 0.8886 - val_loss: 1.0743 - val_accuracy: 0.6500\n",
            "Epoch 14/30\n",
            "1140/1140 [==============================] - 6s 5ms/step - loss: 0.2752 - accuracy: 0.9123 - val_loss: 1.0975 - val_accuracy: 0.6167\n",
            "Epoch 15/30\n",
            "1140/1140 [==============================] - 6s 5ms/step - loss: 0.2332 - accuracy: 0.9237 - val_loss: 1.3107 - val_accuracy: 0.6333\n",
            "Epoch 16/30\n",
            "1140/1140 [==============================] - 6s 5ms/step - loss: 0.2213 - accuracy: 0.9289 - val_loss: 1.4110 - val_accuracy: 0.5667\n",
            "Epoch 17/30\n",
            "1140/1140 [==============================] - 6s 5ms/step - loss: 0.2036 - accuracy: 0.9404 - val_loss: 1.4569 - val_accuracy: 0.5833\n",
            "Epoch 18/30\n",
            "1140/1140 [==============================] - 6s 5ms/step - loss: 0.1810 - accuracy: 0.9377 - val_loss: 1.4982 - val_accuracy: 0.5833\n",
            "Epoch 19/30\n",
            "1140/1140 [==============================] - 6s 5ms/step - loss: 0.1538 - accuracy: 0.9404 - val_loss: 1.6051 - val_accuracy: 0.6000\n",
            "Epoch 20/30\n",
            "1140/1140 [==============================] - 6s 5ms/step - loss: 0.1488 - accuracy: 0.9588 - val_loss: 1.4472 - val_accuracy: 0.6000\n",
            "Epoch 21/30\n",
            "1140/1140 [==============================] - 6s 5ms/step - loss: 0.1403 - accuracy: 0.9588 - val_loss: 1.6482 - val_accuracy: 0.6167\n",
            "Epoch 22/30\n",
            "1140/1140 [==============================] - 6s 5ms/step - loss: 0.1378 - accuracy: 0.9526 - val_loss: 1.6328 - val_accuracy: 0.5667\n",
            "Epoch 23/30\n",
            "1140/1140 [==============================] - 6s 5ms/step - loss: 0.1236 - accuracy: 0.9561 - val_loss: 1.6628 - val_accuracy: 0.6667\n",
            "Epoch 24/30\n",
            "1140/1140 [==============================] - 6s 5ms/step - loss: 0.1086 - accuracy: 0.9640 - val_loss: 1.7422 - val_accuracy: 0.6167\n",
            "Epoch 25/30\n",
            "1140/1140 [==============================] - 6s 5ms/step - loss: 0.1179 - accuracy: 0.9561 - val_loss: 1.8349 - val_accuracy: 0.6000\n",
            "Epoch 26/30\n",
            "1140/1140 [==============================] - 6s 5ms/step - loss: 0.1157 - accuracy: 0.9632 - val_loss: 1.6291 - val_accuracy: 0.6167\n",
            "Epoch 27/30\n",
            "1140/1140 [==============================] - 6s 5ms/step - loss: 0.0906 - accuracy: 0.9684 - val_loss: 1.8939 - val_accuracy: 0.6333\n",
            "Epoch 28/30\n",
            "1140/1140 [==============================] - 6s 5ms/step - loss: 0.1000 - accuracy: 0.9684 - val_loss: 1.9595 - val_accuracy: 0.5833\n",
            "Epoch 29/30\n",
            "1140/1140 [==============================] - 6s 5ms/step - loss: 0.0747 - accuracy: 0.9702 - val_loss: 1.9269 - val_accuracy: 0.5833\n",
            "Epoch 30/30\n",
            "1140/1140 [==============================] - 6s 5ms/step - loss: 0.0870 - accuracy: 0.9719 - val_loss: 2.1028 - val_accuracy: 0.5500\n"
          ],
          "name": "stdout"
        }
      ]
    },
    {
      "cell_type": "code",
      "metadata": {
        "id": "_tymCn_E44p3",
        "colab_type": "code",
        "colab": {
          "base_uri": "https://localhost:8080/",
          "height": 541
        },
        "outputId": "7d0d5a4d-0649-4c85-c2ff-e0ac8940e40d"
      },
      "source": [
        "plot_graphs(history, \"accuracy\")\n",
        "plot_graphs(history, \"loss\")"
      ],
      "execution_count": 21,
      "outputs": [
        {
          "output_type": "display_data",
          "data": {
            "image/png": "[encoded data removed]",
            "text/plain": [
              "<Figure size 432x288 with 1 Axes>"
            ]
          },
          "metadata": {
            "tags": [],
            "needs_background": "light"
          }
        },
        {
          "output_type": "display_data",
          "data": {
            "image/png": "[encoded data removed]",
            "text/plain": [
              "<Figure size 432x288 with 1 Axes>"
            ]
          },
          "metadata": {
            "tags": [],
            "needs_background": "light"
          }
        }
      ]
    },
    {
      "cell_type": "code",
      "metadata": {
        "id": "FkjNqF5RNMbU",
        "colab_type": "code",
        "colab": {
          "base_uri": "https://localhost:8080/",
          "height": 34
        },
        "outputId": "5a550fb8-01de-4c81-b78d-608d62b33917"
      },
      "source": [
        "Y_test_hat = np.array([i.argmax() for i in model.predict(test_padded)])\n",
        "Y_test = np.array([i.argmax() for i in test_labels])\n",
        "\n",
        "tp = sum((Y_test == Y_test_hat) & (Y_test == 2))\n",
        "tn = sum((Y_test == Y_test_hat) & (Y_test != 2))\n",
        "fp = sum((Y_test != Y_test_hat) & (Y_test_hat == 2))\n",
        "fn = sum((Y_test != Y_test_hat) & (Y_test == 2))\n",
        "\n",
        "precision = tp/(tp+fp)\n",
        "recall = tp/(tp+fn)\n",
        "\n",
        "f1 = 2 * precision * recall / (precision + recall)\n",
        "precision, recall, f1"
      ],
      "execution_count": 22,
      "outputs": [
        {
          "output_type": "execute_result",
          "data": {
            "text/plain": [
              "(0.7142857142857143, 0.7894736842105263, 0.7500000000000001)"
            ]
          },
          "metadata": {
            "tags": []
          },
          "execution_count": 22
        }
      ]
    }
  ]
}