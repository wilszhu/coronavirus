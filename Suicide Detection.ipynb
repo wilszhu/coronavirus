{
 "cells": [
  {
   "cell_type": "code",
   "execution_count": 11,
   "metadata": {},
   "outputs": [],
   "source": [
    "#Imports\n",
    "import pickle\n",
    "from tensorflow.keras.models import model_from_json\n",
    "from tensorflow.keras.models import load_model\n",
    "from tensorflow.keras.preprocessing.sequence import pad_sequences\n",
    "\n",
    "#Load Tokenizer\n",
    "with open('tokenizer.pickle', 'rb') as handle:\n",
    "    tokenizer = pickle.load(handle)\n",
    "    \n",
    "#Load Model    \n",
    "json_file = open('final_model.json', 'r')\n",
    "loaded_model_json = json_file.read()\n",
    "json_file.close()\n",
    "loaded_model = model_from_json(loaded_model_json)\n",
    "loaded_model.load_weights(\"final_model.h5\")\n",
    "\n",
    "#Predict Value Using Model\n",
    "def predict(s):\n",
    "    s = s.lower()\n",
    "\n",
    "    s = s.replace('(#(\\w)+)', '')\n",
    "    s = s.replace('(@(\\w)+)', '')\n",
    "\n",
    "    s = s.replace('&', 'and')\n",
    "    s = s.replace('a-z0-9\\.\\?\\:\\. |', '')\n",
    "    s = s.replace('<[^<>]+>', '')\n",
    "    s = s.replace('[0-9]+', 'number')\n",
    "    s = s.replace('(http|https)://[^\\s]*', '')\n",
    "    s = s.replace('[\\.]+', '.')\n",
    "    s = s.replace('[\\,]+', ',')\n",
    "    s = s.replace('[\\?]+', '?')\n",
    "    s = s.replace('[\\!]+', '!')\n",
    "    \n",
    "    sequence = tokenizer.texts_to_sequences([s])\n",
    "    padded_sequence = pad_sequences(sequence, padding = 'post', maxlen = 50)\n",
    "    pred = loaded_model.predict(padded_sequence)\n",
    "    return pred.argmax()"
   ]
  },
  {
   "cell_type": "code",
   "execution_count": 12,
   "metadata": {},
   "outputs": [
    {
     "name": "stdin",
     "output_type": "stream",
     "text": [
      "Enter Twitter Message: I’m worthless as fk, just let me die.”\n"
     ]
    },
    {
     "name": "stdout",
     "output_type": "stream",
     "text": [
      "Level of Concern is 1\n"
     ]
    }
   ],
   "source": [
    "#User Input\n",
    "s = str(input(\"Enter Twitter Message:\"))\n",
    "output = predict(s)\n",
    "print(\"Level of Concern is \" + str(output))"
   ]
  },
  {
   "cell_type": "code",
   "execution_count": null,
   "metadata": {},
   "outputs": [],
   "source": []
  }
 ],
 "metadata": {
  "kernelspec": {
   "display_name": "Python 3",
   "language": "python",
   "name": "python3"
  },
  "language_info": {
   "codemirror_mode": {
    "name": "ipython",
    "version": 3
   },
   "file_extension": ".py",
   "mimetype": "text/x-python",
   "name": "python",
   "nbconvert_exporter": "python",
   "pygments_lexer": "ipython3",
   "version": "3.7.6"
  }
 },
 "nbformat": 4,
 "nbformat_minor": 4
}
